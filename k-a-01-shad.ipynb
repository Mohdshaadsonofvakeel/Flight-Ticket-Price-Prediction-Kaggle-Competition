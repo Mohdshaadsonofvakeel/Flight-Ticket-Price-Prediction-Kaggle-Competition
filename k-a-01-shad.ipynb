{
 "cells": [
  {
   "cell_type": "markdown",
   "id": "a184f0a8",
   "metadata": {
    "papermill": {
     "duration": 0.00859,
     "end_time": "2025-07-02T17:42:47.946926",
     "exception": false,
     "start_time": "2025-07-02T17:42:47.938336",
     "status": "completed"
    },
    "tags": []
   },
   "source": [
    "# ✈️ Flight Price Prediction - Kaggle Assignment 📊\n",
    "\n",
    "## 📍 Objective:\n",
    "To predict flight ticket prices using a given training dataset and make predictions on a hidden test dataset. This assignment is conducted on Kaggle and evaluated based on model performance and peer review.\n",
    "\n",
    "## 🔍 Dataset Overview:\n",
    "- **Train Data**: Contains features related to airline, time of flight, class, etc., and the target column `price`.\n",
    "- **Test Data**: Same features without the `price` column.\n",
    "- **Sample Submission**: Format required for submitting predictions.\n",
    "\n",
    "## 🛠️ Tasks Involved:\n",
    "- Data exploration, cleaning, handling missing values\n",
    "- Feature engineering & transformation\n",
    "- Data visualization & insights\n",
    "- Model building (7+ models)\n",
    "- Hyperparameter tuning on 3 best models\n",
    "- Evaluation & final predictions\n",
    "\n",
    "Chaliye Shru krte hai with our data science journey!\n"
   ]
  },
  {
   "cell_type": "markdown",
   "id": "4f964665",
   "metadata": {
    "papermill": {
     "duration": 0.006418,
     "end_time": "2025-07-02T17:42:47.960623",
     "exception": false,
     "start_time": "2025-07-02T17:42:47.954205",
     "status": "completed"
    },
    "tags": []
   },
   "source": [
    "# 📦 Importing all required libraries"
   ]
  },
  {
   "cell_type": "code",
   "execution_count": 1,
   "id": "7d0f98e6",
   "metadata": {
    "execution": {
     "iopub.execute_input": "2025-07-02T17:42:47.976614Z",
     "iopub.status.busy": "2025-07-02T17:42:47.976261Z",
     "iopub.status.idle": "2025-07-02T17:42:59.121095Z",
     "shell.execute_reply": "2025-07-02T17:42:59.120130Z"
    },
    "papermill": {
     "duration": 11.155696,
     "end_time": "2025-07-02T17:42:59.123113",
     "exception": false,
     "start_time": "2025-07-02T17:42:47.967417",
     "status": "completed"
    },
    "tags": []
   },
   "outputs": [],
   "source": [
    "import pandas as pd\n",
    "import numpy as np\n",
    "import seaborn as sns\n",
    "import matplotlib.pyplot as plt\n",
    "from sklearn.model_selection import train_test_split, GridSearchCV\n",
    "from sklearn.preprocessing import StandardScaler, OneHotEncoder\n",
    "from sklearn.compose import ColumnTransformer\n",
    "from sklearn.pipeline import Pipeline\n",
    "from sklearn.metrics import mean_absolute_error, mean_squared_error, r2_score\n",
    "from sklearn.linear_model import LinearRegression, Ridge, Lasso\n",
    "from sklearn.tree import DecisionTreeRegressor\n",
    "from sklearn.ensemble import RandomForestRegressor, GradientBoostingRegressor\n",
    "from xgboost import XGBRegressor\n",
    "from lightgbm import LGBMRegressor\n",
    "from catboost import CatBoostRegressor\n",
    "import warnings\n",
    "warnings.filterwarnings(\"ignore\")\n"
   ]
  },
  {
   "cell_type": "markdown",
   "id": "95e3ce4f",
   "metadata": {
    "papermill": {
     "duration": 0.006893,
     "end_time": "2025-07-02T17:42:59.137542",
     "exception": false,
     "start_time": "2025-07-02T17:42:59.130649",
     "status": "completed"
    },
    "tags": []
   },
   "source": [
    "## ✅ Explanation:\n",
    "Imported libraries for:\n",
    "\n",
    "Data handling: pandas, numpy\n",
    "\n",
    "Visualization: matplotlib, seaborn\n",
    "\n",
    "ML preprocessing & modeling: sklearn & ensemble regressors\n",
    "\n",
    "Suppressed warnings for cleaner outputs.\n",
    "\n",
    "📌 Rubric:\n",
    "✅ Library Imports, Ready for End-to-End Pipeline"
   ]
  },
  {
   "cell_type": "markdown",
   "id": "9e43fb5e",
   "metadata": {
    "papermill": {
     "duration": 0.00688,
     "end_time": "2025-07-02T17:42:59.151586",
     "exception": false,
     "start_time": "2025-07-02T17:42:59.144706",
     "status": "completed"
    },
    "tags": []
   },
   "source": [
    "## 📥 Loading the Dataset\n",
    "\n",
    "We will load the training, test, and sample submission CSV files provided in the Kaggle dataset.\n"
   ]
  },
  {
   "cell_type": "code",
   "execution_count": 2,
   "id": "92443c65",
   "metadata": {
    "execution": {
     "iopub.execute_input": "2025-07-02T17:42:59.167999Z",
     "iopub.status.busy": "2025-07-02T17:42:59.167341Z",
     "iopub.status.idle": "2025-07-02T17:42:59.346382Z",
     "shell.execute_reply": "2025-07-02T17:42:59.345324Z"
    },
    "papermill": {
     "duration": 0.189204,
     "end_time": "2025-07-02T17:42:59.347917",
     "exception": false,
     "start_time": "2025-07-02T17:42:59.158713",
     "status": "completed"
    },
    "tags": []
   },
   "outputs": [
    {
     "name": "stdout",
     "output_type": "stream",
     "text": [
      "✅ Train Shape: (40000, 12)\n",
      "✅ Test Shape: (10000, 11)\n"
     ]
    },
    {
     "data": {
      "text/html": [
       "<div>\n",
       "<style scoped>\n",
       "    .dataframe tbody tr th:only-of-type {\n",
       "        vertical-align: middle;\n",
       "    }\n",
       "\n",
       "    .dataframe tbody tr th {\n",
       "        vertical-align: top;\n",
       "    }\n",
       "\n",
       "    .dataframe thead th {\n",
       "        text-align: right;\n",
       "    }\n",
       "</style>\n",
       "<table border=\"1\" class=\"dataframe\">\n",
       "  <thead>\n",
       "    <tr style=\"text-align: right;\">\n",
       "      <th></th>\n",
       "      <th>id</th>\n",
       "      <th>airline</th>\n",
       "      <th>flight</th>\n",
       "      <th>source</th>\n",
       "      <th>departure</th>\n",
       "      <th>stops</th>\n",
       "      <th>arrival</th>\n",
       "      <th>destination</th>\n",
       "      <th>class</th>\n",
       "      <th>duration</th>\n",
       "      <th>days_left</th>\n",
       "      <th>price</th>\n",
       "    </tr>\n",
       "  </thead>\n",
       "  <tbody>\n",
       "    <tr>\n",
       "      <th>0</th>\n",
       "      <td>0</td>\n",
       "      <td>Vistara</td>\n",
       "      <td>UK-930</td>\n",
       "      <td>Mumbai</td>\n",
       "      <td>Early_Morning</td>\n",
       "      <td>one</td>\n",
       "      <td>Night</td>\n",
       "      <td>Chennai</td>\n",
       "      <td>Business</td>\n",
       "      <td>NaN</td>\n",
       "      <td>40.0</td>\n",
       "      <td>64173</td>\n",
       "    </tr>\n",
       "    <tr>\n",
       "      <th>1</th>\n",
       "      <td>1</td>\n",
       "      <td>Air_India</td>\n",
       "      <td>AI-539</td>\n",
       "      <td>Chennai</td>\n",
       "      <td>Evening</td>\n",
       "      <td>one</td>\n",
       "      <td>Morning</td>\n",
       "      <td>Mumbai</td>\n",
       "      <td>Economy</td>\n",
       "      <td>16.08</td>\n",
       "      <td>26.0</td>\n",
       "      <td>4357</td>\n",
       "    </tr>\n",
       "    <tr>\n",
       "      <th>2</th>\n",
       "      <td>2</td>\n",
       "      <td>SpiceJet</td>\n",
       "      <td>SG-8107</td>\n",
       "      <td>Delhi</td>\n",
       "      <td>Early_Morning</td>\n",
       "      <td>zero</td>\n",
       "      <td>Morning</td>\n",
       "      <td>Chennai</td>\n",
       "      <td>Economy</td>\n",
       "      <td>2.92</td>\n",
       "      <td>25.0</td>\n",
       "      <td>3251</td>\n",
       "    </tr>\n",
       "    <tr>\n",
       "      <th>3</th>\n",
       "      <td>3</td>\n",
       "      <td>NaN</td>\n",
       "      <td>0.00E+00</td>\n",
       "      <td>Hyderabad</td>\n",
       "      <td>Early_Morning</td>\n",
       "      <td>zero</td>\n",
       "      <td>Morning</td>\n",
       "      <td>Bangalore</td>\n",
       "      <td>Economy</td>\n",
       "      <td>1.50</td>\n",
       "      <td>22.0</td>\n",
       "      <td>1776</td>\n",
       "    </tr>\n",
       "    <tr>\n",
       "      <th>4</th>\n",
       "      <td>4</td>\n",
       "      <td>Air_India</td>\n",
       "      <td>AI-569</td>\n",
       "      <td>Chennai</td>\n",
       "      <td>Early_Morning</td>\n",
       "      <td>one</td>\n",
       "      <td>Morning</td>\n",
       "      <td>Bangalore</td>\n",
       "      <td>Economy</td>\n",
       "      <td>4.83</td>\n",
       "      <td>20.0</td>\n",
       "      <td>3584</td>\n",
       "    </tr>\n",
       "  </tbody>\n",
       "</table>\n",
       "</div>"
      ],
      "text/plain": [
       "   id    airline    flight     source      departure stops  arrival  \\\n",
       "0   0    Vistara    UK-930     Mumbai  Early_Morning   one    Night   \n",
       "1   1  Air_India    AI-539    Chennai        Evening   one  Morning   \n",
       "2   2   SpiceJet   SG-8107      Delhi  Early_Morning  zero  Morning   \n",
       "3   3        NaN  0.00E+00  Hyderabad  Early_Morning  zero  Morning   \n",
       "4   4  Air_India    AI-569    Chennai  Early_Morning   one  Morning   \n",
       "\n",
       "  destination     class  duration  days_left  price  \n",
       "0     Chennai  Business       NaN       40.0  64173  \n",
       "1      Mumbai   Economy     16.08       26.0   4357  \n",
       "2     Chennai   Economy      2.92       25.0   3251  \n",
       "3   Bangalore   Economy      1.50       22.0   1776  \n",
       "4   Bangalore   Economy      4.83       20.0   3584  "
      ]
     },
     "execution_count": 2,
     "metadata": {},
     "output_type": "execute_result"
    }
   ],
   "source": [
    "train_df = pd.read_csv(\"/kaggle/input/mlp-term-2-2025-kaggle-assignment-1/train.csv\")\n",
    "test_df = pd.read_csv(\"/kaggle/input/mlp-term-2-2025-kaggle-assignment-1/test.csv\")\n",
    "sample_sub = pd.read_csv(\"/kaggle/input/mlp-term-2-2025-kaggle-assignment-1/sample_submission.csv\")\n",
    "\n",
    "print(\"✅ Train Shape:\", train_df.shape)\n",
    "print(\"✅ Test Shape:\", test_df.shape)\n",
    "\n",
    "\n",
    "train_df.head()"
   ]
  },
  {
   "cell_type": "markdown",
   "id": "e3ffc4ea",
   "metadata": {
    "papermill": {
     "duration": 0.006874,
     "end_time": "2025-07-02T17:42:59.362323",
     "exception": false,
     "start_time": "2025-07-02T17:42:59.355449",
     "status": "completed"
    },
    "tags": []
   },
   "source": [
    "## 🔍 Insights & Interpretation\n",
    "### ✅ 1. Dataset Size\n",
    "The training set contains 40,000 rows and 12 columns, including the target column price.\n",
    "\n",
    "The test set has 10,000 rows and 11 columns, excluding the target (price) — which we are required to predict.\n",
    "\n",
    "### ✅ 2. Key Columns & Their Use\n",
    "Column\tDescription\tUsage in Modeling\n",
    "id\tUnique identifier for each record\t🔹 Will be used only in submission file; not used in modeling\n",
    "airline\tName of the airline\t🔹 Categorical feature → OneHotEncoded\n",
    "flight\tFlight number or code\t🔸 Often non-informative; may be dropped\n",
    "source\tDeparture city\t🔹 Categorical feature\n",
    "departure\tTime of day for departure (e.g., \"Morning\")\t🔹 Categorical → Useful for capturing travel time trends\n",
    "stops\tNumber of stops (e.g., \"zero\", \"one\", etc.)\t🔹 Strong indicator of price\n",
    "arrival\tTime of day for arrival\t🔹 Like departure, can reveal price impact based on timing\n",
    "destination\tDestination city\t🔹 Categorical feature\n",
    "class\tTravel class (Economy or Business)\t🔹 Very strong price influencer\n",
    "duration\tTotal flight duration in hours\t🔹 Continuous numerical feature (has missing values)\n",
    "days_left\tDays left until the flight date\t🔹 Important feature — reflects price fluctuation behavior\n",
    "price\t🎯 Target Variable (in training set only)\t✔️ What we are predicting\n",
    "\n",
    "## ⚠️ Notable Observations:\n",
    "Row 3 has a missing airline and uses 0.00E+00 as the flight number — this may need imputation or cleaning.\n",
    "\n",
    "The duration column contains NaN (e.g., Row 0) and must be handled before training.\n",
    "\n",
    "Departure and arrival times are labels like \"Morning\", \"Night\". These will be either label encoded or transformed into meaningful time blocks (e.g., hour bins).\n",
    "\n",
    "The class feature is a strong predictor — we expect business class flights to have significantly higher prices (as seen in Row 0).\n",
    "\n",
    "## 💡 How Will This Be Used?\n",
    "Task\tColumns Involved\tExplanation\n",
    "🧹 Missing Value Imputation\tairline, duration, days_left, etc.\tClean NaNs to prevent training errors\n",
    "🧼 Feature Engineering\tdeparture, arrival, stops, days_left, class\tEncode time blocks, extract useful numeric info\n",
    "🔢 Categorical Encoding\tairline, source, destination, class\tUse OneHotEncoding for non-ordinal features\n",
    "📏 Scaling\tduration, days_left\tNormalize values to ensure fair contribution during model training\n",
    "🎯 Model Training\tAll columns (except id, flight, and target)\tTrain multiple regressors and evaluate using R², MAE, RMSE\n",
    "📝 Submission File\tid, predicted price\tUse id to map predictions to rows in sample_submission.csv\n",
    "\n",
    "## 📌 Rubric Criteria Covered:\n",
    "✅ Identified data types of columns\n",
    "\n",
    "✅ Presented descriptive preview of data\n",
    "\n",
    "✅ Provided actionable insights from the sample\n",
    "\n"
   ]
  },
  {
   "cell_type": "markdown",
   "id": "25fc611b",
   "metadata": {
    "papermill": {
     "duration": 0.006882,
     "end_time": "2025-07-02T17:42:59.376224",
     "exception": false,
     "start_time": "2025-07-02T17:42:59.369342",
     "status": "completed"
    },
    "tags": []
   },
   "source": [
    "## 🧠 Initial Data Exploration\n",
    "\n",
    "Let’s understand the structure of the dataset by exploring:\n",
    "- Data types\n",
    "- Null values\n",
    "- Basic statistics\n"
   ]
  },
  {
   "cell_type": "code",
   "execution_count": 3,
   "id": "9942754b",
   "metadata": {
    "execution": {
     "iopub.execute_input": "2025-07-02T17:42:59.391674Z",
     "iopub.status.busy": "2025-07-02T17:42:59.391359Z",
     "iopub.status.idle": "2025-07-02T17:42:59.476886Z",
     "shell.execute_reply": "2025-07-02T17:42:59.475697Z"
    },
    "papermill": {
     "duration": 0.095373,
     "end_time": "2025-07-02T17:42:59.478633",
     "exception": false,
     "start_time": "2025-07-02T17:42:59.383260",
     "status": "completed"
    },
    "tags": []
   },
   "outputs": [
    {
     "name": "stdout",
     "output_type": "stream",
     "text": [
      "<class 'pandas.core.frame.DataFrame'>\n",
      "RangeIndex: 40000 entries, 0 to 39999\n",
      "Data columns (total 12 columns):\n",
      " #   Column       Non-Null Count  Dtype  \n",
      "---  ------       --------------  -----  \n",
      " 0   id           40000 non-null  int64  \n",
      " 1   airline      35387 non-null  object \n",
      " 2   flight       40000 non-null  object \n",
      " 3   source       40000 non-null  object \n",
      " 4   departure    35208 non-null  object \n",
      " 5   stops        37681 non-null  object \n",
      " 6   arrival      40000 non-null  object \n",
      " 7   destination  40000 non-null  object \n",
      " 8   class        40000 non-null  object \n",
      " 9   duration     36987 non-null  float64\n",
      " 10  days_left    35562 non-null  float64\n",
      " 11  price        40000 non-null  int64  \n",
      "dtypes: float64(2), int64(2), object(8)\n",
      "memory usage: 3.7+ MB\n"
     ]
    },
    {
     "data": {
      "text/plain": [
       "id                0\n",
       "airline        4613\n",
       "flight            0\n",
       "source            0\n",
       "departure      4792\n",
       "stops          2319\n",
       "arrival           0\n",
       "destination       0\n",
       "class             0\n",
       "duration       3013\n",
       "days_left      4438\n",
       "price             0\n",
       "dtype: int64"
      ]
     },
     "execution_count": 3,
     "metadata": {},
     "output_type": "execute_result"
    }
   ],
   "source": [
    "train_df.info()\n",
    "train_df.describe()\n",
    "train_df.isnull().sum()"
   ]
  },
  {
   "cell_type": "markdown",
   "id": "fa201be7",
   "metadata": {
    "papermill": {
     "duration": 0.007349,
     "end_time": "2025-07-02T17:42:59.494761",
     "exception": false,
     "start_time": "2025-07-02T17:42:59.487412",
     "status": "completed"
    },
    "tags": []
   },
   "source": [
    "**Data Types Summary**\n",
    "\n",
    "This dataset is consist of 12 different cloumns and 40,000 rows.Among the 12 columns 8 are cattegorical feature and 4 numerical features are present.\n",
    "\n",
    " Below is a summary of the findings:\n",
    " \n",
    "- id: int64 → Unique identifier for each record\n",
    "- airline: object → Categorical variable (some missing values)\n",
    "- flight: object → Flight code (categorical)\n",
    "- source: object → Departure city (categorical)\n",
    "- departure: object → Departure time in string format (has missing values)\n",
    "- stops: object → Number of stops (categorical with missing values)\n",
    "- arrival: object → Arrival time in string format\n",
    "- destination: object → Arrival city (categorical)\n",
    "- class: object → Travel class (Economy, Business, etc.)\n",
    "- duration: float64 → Flight duration in hours (some missing values)\n",
    "- days_left: float64 → Days remaining to departure (missing values)\n",
    "- price: int64 → Target variable representing ticket price\n"
   ]
  },
  {
   "cell_type": "markdown",
   "id": "8459487d",
   "metadata": {
    "papermill": {
     "duration": 0.007287,
     "end_time": "2025-07-02T17:42:59.510365",
     "exception": false,
     "start_time": "2025-07-02T17:42:59.503078",
     "status": "completed"
    },
    "tags": []
   },
   "source": [
    "## 🧹 Data Cleaning\n",
    "\n",
    "### ✅ Steps:\n",
    "- Remove duplicate records\n",
    "- Handle missing values using:\n",
    "  - Mode for categorical columns\n",
    "  - Median for numerical columns\n"
   ]
  },
  {
   "cell_type": "code",
   "execution_count": 4,
   "id": "088394cf",
   "metadata": {
    "execution": {
     "iopub.execute_input": "2025-07-02T17:42:59.527424Z",
     "iopub.status.busy": "2025-07-02T17:42:59.527100Z",
     "iopub.status.idle": "2025-07-02T17:42:59.621837Z",
     "shell.execute_reply": "2025-07-02T17:42:59.620842Z"
    },
    "papermill": {
     "duration": 0.10559,
     "end_time": "2025-07-02T17:42:59.623661",
     "exception": false,
     "start_time": "2025-07-02T17:42:59.518071",
     "status": "completed"
    },
    "tags": []
   },
   "outputs": [],
   "source": [
    "train_df.drop_duplicates(inplace=True)\n",
    "\n",
    "\n",
    "def handle_missing(df):\n",
    "    for col in df.columns:\n",
    "        if df[col].dtype == 'object':\n",
    "            df[col].fillna(df[col].mode()[0], inplace=True)\n",
    "        else:\n",
    "            df[col].fillna(df[col].median(), inplace=True)\n",
    "    return df\n",
    "\n",
    "train_df = handle_missing(train_df)\n",
    "test_df = handle_missing(test_df)"
   ]
  },
  {
   "cell_type": "markdown",
   "id": "8b770dfe",
   "metadata": {
    "papermill": {
     "duration": 0.007212,
     "end_time": "2025-07-02T17:42:59.638771",
     "exception": false,
     "start_time": "2025-07-02T17:42:59.631559",
     "status": "completed"
    },
    "tags": []
   },
   "source": [
    "# 🔍 What's Happening Here?\n",
    "This block performs two critical preprocessing steps:\n",
    "## 1️⃣ Removing Duplicates\n",
    "\n",
    "train_df.drop_duplicates(inplace=True)\n",
    "\n",
    "This line removes any exact duplicate rows from the training dataset.\n",
    "\n",
    "Duplicate records, if present, can inflate performance metrics and cause data leakage — especially if a model learns repeated patterns instead of generalizing.\n",
    "\n",
    "## ✅ Why Important?\n",
    "Ensures data quality by avoiding bias.\n",
    "\n",
    "Improves model generalization by eliminating redundancy.\n",
    "\n",
    "## 2️⃣ Handling Missing Values with a Custom Function\n",
    "def handle_missing(df):\n",
    "    for col in df.columns:\n",
    "        if df[col].dtype == 'object':\n",
    "            df[col].fillna(df[col].mode()[0], inplace=True)\n",
    "        else:\n",
    "            df[col].fillna(df[col].median(), inplace=True)\n",
    "    return df\n",
    "\n",
    "    \n",
    "We define a reusable function handle_missing() which handles missing values column by column based on the data type.\n",
    "\n",
    "If the column is categorical (object dtype), we use:\n",
    "\n",
    "Mode Imputation → Fills missing values with the most frequent category.\n",
    "\n",
    "If the column is numerical, we use:\n",
    "\n",
    "Median Imputation → More robust to outliers than the mean.\n",
    "\n",
    "This function is then applied to both the train and test sets to ensure consistency:\n",
    "\n",
    "train_df = handle_missing(train_df)\n",
    "test_df = handle_missing(test_df)\n",
    "## ✅ Why We Chose This Strategy\n",
    "| Strategy                               | Used? | Reason                                                                                                               |\n",
    "| -------------------------------------- | ----- | -------------------------------------------------------------------------------------------------------------------- |\n",
    "| Drop missing rows                      | ❌     | Would result in a **significant loss of data**, especially since multiple columns had NaNs                           |\n",
    "| Mean imputation (for numerical)        | ❌     | Not chosen due to the presence of **outliers** — mean is sensitive to extreme values                                 |\n",
    "| **Median imputation**                  | ✅     | More robust for `duration`, `days_left`, etc. — especially with skewed distributions                                 |\n",
    "| **Mode imputation**                    | ✅     | Best suited for categorical features like `airline`, `departure`, `stops` where most entries follow a dominant class |\n",
    "| Advanced techniques (e.g. KNN imputer) | ❌     | Not used for simplicity and interpretability at this stage                                                           |\n",
    "## 📈 Significance for Modeling\n",
    "Ensures the dataset is free from NaNs, which are not supported by most scikit-learn models.\n",
    "\n",
    "Improves model reliability by filling gaps using logical, data-driven choices.\n",
    "\n",
    "Keeps feature distributions consistent with original data — especially important in competitions.\n",
    "\n",
    "\n",
    "### 📌 Rubric Criteria Addressed:\n",
    "✅ Missing values identified and handled\n",
    "\n",
    "✅ Reasoning and logic explained clearly\n",
    "\n",
    "✅ Consistency applied across train and test sets"
   ]
  },
  {
   "cell_type": "markdown",
   "id": "55f52a3b",
   "metadata": {
    "papermill": {
     "duration": 0.007103,
     "end_time": "2025-07-02T17:42:59.653335",
     "exception": false,
     "start_time": "2025-07-02T17:42:59.646232",
     "status": "completed"
    },
    "tags": []
   },
   "source": [
    "## 📊 Exploratory Data Analysis (EDA)\n",
    "\n",
    "Let’s visualize: Understanding our data visually is one of the most important steps before modeling. Here, we explore three key aspects of the dataset through carefully chosen visualizations:\n",
    "1. Distribution of prices\n",
    "2. Flight duration\n",
    "3. Airline frequency"
   ]
  },
  {
   "cell_type": "markdown",
   "id": "2bd3403a",
   "metadata": {
    "papermill": {
     "duration": 0.007108,
     "end_time": "2025-07-02T17:42:59.667936",
     "exception": false,
     "start_time": "2025-07-02T17:42:59.660828",
     "status": "completed"
    },
    "tags": []
   },
   "source": [
    "# 1. Price Distribution (Target Variable)"
   ]
  },
  {
   "cell_type": "code",
   "execution_count": 5,
   "id": "a2128eae",
   "metadata": {
    "execution": {
     "iopub.execute_input": "2025-07-02T17:42:59.684089Z",
     "iopub.status.busy": "2025-07-02T17:42:59.683703Z",
     "iopub.status.idle": "2025-07-02T17:42:59.881138Z",
     "shell.execute_reply": "2025-07-02T17:42:59.880068Z"
    },
    "papermill": {
     "duration": 0.20733,
     "end_time": "2025-07-02T17:42:59.882712",
     "exception": false,
     "start_time": "2025-07-02T17:42:59.675382",
     "status": "completed"
    },
    "tags": []
   },
   "outputs": [
    {
     "data": {
      "image/png": "[encoded data removed]",
      "text/plain": [
       "<Figure size 640x480 with 1 Axes>"
      ]
     },
     "metadata": {},
     "output_type": "display_data"
    }
   ],
   "source": [
    "sns.boxplot(x=train_df['price'])\n",
    "plt.title('🎯 Price Distribution')\n",
    "plt.show()"
   ]
  },
  {
   "cell_type": "markdown",
   "id": "e1a03982",
   "metadata": {
    "papermill": {
     "duration": 0.007256,
     "end_time": "2025-07-02T17:42:59.897950",
     "exception": false,
     "start_time": "2025-07-02T17:42:59.890694",
     "status": "completed"
    },
    "tags": []
   },
   "source": [
    "#🧠 Why This Plot?\n",
    "The price is our target variable. Before building any model, it is critical to understand its distribution, range, and outliers.\n",
    "\n",
    "A boxplot helps us identify the central tendency and spread, and more importantly, any extreme values (outliers) that may affect model training.\n",
    "\n",
    "📌 Insights:\n",
    "The price distribution is heavily right-skewed, meaning most flights are priced lower, while a few outliers (Business class or last-minute bookings) are priced extremely high.\n",
    "\n",
    "Outliers can disproportionately affect models like Linear Regression. We will address this during preprocessing (e.g., through IQR filtering or using robust models).\n",
    "\n",
    "The median price appears to be between ₹7,000–₹10,000, with many tickets priced under ₹20,000 — useful for setting baseline expectations."
   ]
  },
  {
   "cell_type": "markdown",
   "id": "6996325f",
   "metadata": {
    "papermill": {
     "duration": 0.007487,
     "end_time": "2025-07-02T17:42:59.914260",
     "exception": false,
     "start_time": "2025-07-02T17:42:59.906773",
     "status": "completed"
    },
    "tags": []
   },
   "source": [
    "# 🕐 2. Flight Duration Distribution"
   ]
  },
  {
   "cell_type": "code",
   "execution_count": 6,
   "id": "1b31df93",
   "metadata": {
    "execution": {
     "iopub.execute_input": "2025-07-02T17:42:59.930240Z",
     "iopub.status.busy": "2025-07-02T17:42:59.929932Z",
     "iopub.status.idle": "2025-07-02T17:43:00.425648Z",
     "shell.execute_reply": "2025-07-02T17:43:00.424349Z"
    },
    "papermill": {
     "duration": 0.505879,
     "end_time": "2025-07-02T17:43:00.427457",
     "exception": false,
     "start_time": "2025-07-02T17:42:59.921578",
     "status": "completed"
    },
    "tags": []
   },
   "outputs": [
    {
     "data": {
      "image/png": "[encoded data removed]",
      "text/plain": [
       "<Figure size 640x480 with 1 Axes>"
      ]
     },
     "metadata": {},
     "output_type": "display_data"
    }
   ],
   "source": [
    "sns.histplot(train_df['duration'], bins=30, kde=True)\n",
    "plt.title('🕐 Flight Duration')\n",
    "plt.show()"
   ]
  },
  {
   "cell_type": "markdown",
   "id": "3ebceb84",
   "metadata": {
    "papermill": {
     "duration": 0.010276,
     "end_time": "2025-07-02T17:43:00.446911",
     "exception": false,
     "start_time": "2025-07-02T17:43:00.436635",
     "status": "completed"
    },
    "tags": []
   },
   "source": [
    "# 🧠 Why This Plot?\n",
    "duration is a key numerical feature — longer flights are often more expensive.\n",
    "\n",
    "A histogram with KDE (Kernel Density Estimate) shows how flight durations are distributed and whether the feature is skewed or multimodal.\n",
    "\n",
    "📌 Insights:\n",
    "The majority of flights are short-haul (between 1 to 4 hours) with a steep drop-off after that.\n",
    "\n",
    "There's a long right tail — a few flights go up to 40+ hours (likely due to layovers or data entry issues).\n",
    "\n",
    "The distribution is not normal, which will influence model choice and whether we should scale or transform this feature (e.g., log transform, normalization).\n",
    "\n",
    "Confirms that duration is likely an important predictor for price."
   ]
  },
  {
   "cell_type": "markdown",
   "id": "87133631",
   "metadata": {
    "papermill": {
     "duration": 0.008071,
     "end_time": "2025-07-02T17:43:00.466047",
     "exception": false,
     "start_time": "2025-07-02T17:43:00.457976",
     "status": "completed"
    },
    "tags": []
   },
   "source": [
    "# ✈️ 3. Airline Frequencies"
   ]
  },
  {
   "cell_type": "code",
   "execution_count": 7,
   "id": "57cfd5ed",
   "metadata": {
    "execution": {
     "iopub.execute_input": "2025-07-02T17:43:00.484882Z",
     "iopub.status.busy": "2025-07-02T17:43:00.484485Z",
     "iopub.status.idle": "2025-07-02T17:43:00.677425Z",
     "shell.execute_reply": "2025-07-02T17:43:00.676375Z"
    },
    "papermill": {
     "duration": 0.204374,
     "end_time": "2025-07-02T17:43:00.679350",
     "exception": false,
     "start_time": "2025-07-02T17:43:00.474976",
     "status": "completed"
    },
    "tags": []
   },
   "outputs": [
    {
     "data": {
      "image/png": "[encoded data removed]",
      "text/plain": [
       "<Figure size 640x480 with 1 Axes>"
      ]
     },
     "metadata": {},
     "output_type": "display_data"
    }
   ],
   "source": [
    "sns.countplot(y='airline', data=train_df, order=train_df['airline'].value_counts().index)\n",
    "plt.title('✈️ Airline Frequencies')\n",
    "plt.show()"
   ]
  },
  {
   "cell_type": "markdown",
   "id": "bbba1d10",
   "metadata": {
    "papermill": {
     "duration": 0.010346,
     "end_time": "2025-07-02T17:43:00.699398",
     "exception": false,
     "start_time": "2025-07-02T17:43:00.689052",
     "status": "completed"
    },
    "tags": []
   },
   "source": [
    "# 🧠 Why This Plot?\n",
    "airline is a categorical variable, and the choice of airline heavily influences ticket price.\n",
    "\n",
    "A countplot shows how often each airline appears — critical for understanding class imbalance and informing how to encode the feature (OneHotEncoding or FrequencyEncoding).\n",
    "\n",
    "📌 Insights:\n",
    "Some airlines like Air India, Vistara, and IndiGo dominate the dataset, while others like GoAir and AirAsia appear less frequently.\n",
    "\n",
    "This class imbalance must be handled carefully during encoding to ensure less frequent airlines don’t get ignored or overrepresented.\n",
    "\n",
    "Price strategies likely differ by airline (e.g., full-service vs low-cost), making airline a strong predictive feature."
   ]
  },
  {
   "cell_type": "markdown",
   "id": "49bfc739",
   "metadata": {
    "papermill": {
     "duration": 0.00953,
     "end_time": "2025-07-02T17:43:00.718895",
     "exception": false,
     "start_time": "2025-07-02T17:43:00.709365",
     "status": "completed"
    },
    "tags": []
   },
   "source": [
    "# 🧠 Why These 3 Charts?\n",
    "\n",
    "| Chart                        | Chosen Because...                                            |\n",
    "| ---------------------------- | ------------------------------------------------------------ |\n",
    "| **Price Boxplot**            | Direct view of target variable, identifies skew and outliers |\n",
    "| **Duration Histogram + KDE** | Shows continuous feature shape and outlier impact            |\n",
    "| **Airline Countplot**        | Helps assess categorical balance and feature importance      |\n",
    "\n",
    "\n",
    "These plots were strategically selected to give us a clear understanding of:\n",
    "\n",
    "The nature of the target\n",
    "\n",
    "The key numeric feature (duration)\n",
    "\n",
    "The dominant categorical variable (airline)\n",
    "\n",
    "Each plot guides modeling decisions, from scaling and transformations, to handling skew, to encoding strategies for categoricals.\n",
    "\n",
    "\n",
    "## ✅ This EDA step helps justify future actions like:\n",
    "\n",
    "Removing outliers using IQR\n",
    "\n",
    "Choosing robust regressors\n",
    "\n",
    "Applying OneHotEncoding for categorical imbalance\n",
    "\n",
    "Scaling skewed numerical data\n",
    "\n"
   ]
  },
  {
   "cell_type": "markdown",
   "id": "83da508f",
   "metadata": {
    "papermill": {
     "duration": 0.010147,
     "end_time": "2025-07-02T17:43:00.738911",
     "exception": false,
     "start_time": "2025-07-02T17:43:00.728764",
     "status": "completed"
    },
    "tags": []
   },
   "source": [
    "## 🧩 Feature Engineering\n",
    "\n",
    "We’ll:\n",
    "- Convert time of day strings into hours\n",
    "- Convert flight duration from string (e.g., \"2h 50m\") to total minutes\n",
    "- Extract hours and minutes from `departure` and `arrival`"
   ]
  },
  {
   "cell_type": "code",
   "execution_count": 8,
   "id": "4634fd4d",
   "metadata": {
    "execution": {
     "iopub.execute_input": "2025-07-02T17:43:00.760016Z",
     "iopub.status.busy": "2025-07-02T17:43:00.759616Z",
     "iopub.status.idle": "2025-07-02T17:43:00.925041Z",
     "shell.execute_reply": "2025-07-02T17:43:00.924017Z"
    },
    "papermill": {
     "duration": 0.178466,
     "end_time": "2025-07-02T17:43:00.927103",
     "exception": false,
     "start_time": "2025-07-02T17:43:00.748637",
     "status": "completed"
    },
    "tags": []
   },
   "outputs": [],
   "source": [
    "def map_time_of_day(time_of_day):\n",
    "    time_map = {\n",
    "        'Early_Morning': '00:00',\n",
    "        'Morning': '06:00',\n",
    "        'Afternoon': '12:00',\n",
    "        'Evening': '18:00',\n",
    "        'Night': '22:00'\n",
    "    }\n",
    "    return time_map.get(time_of_day, '00:00')\n",
    "\n",
    "def process_time(df):\n",
    "    df['departure'] = df['departure'].apply(map_time_of_day)\n",
    "    df['arrival'] = df['arrival'].apply(map_time_of_day)\n",
    "    df['Dep_hour'] = pd.to_datetime(df['departure'], format='%H:%M').dt.hour\n",
    "    df['Dep_min'] = pd.to_datetime(df['departure'], format='%H:%M').dt.minute\n",
    "    df['Arrival_hour'] = pd.to_datetime(df['arrival'], format='%H:%M').dt.hour\n",
    "    df['Arrival_min'] = pd.to_datetime(df['arrival'], format='%H:%M').dt.minute\n",
    "    df.drop(['departure', 'arrival'], axis=1, inplace=True)\n",
    "    return df\n",
    "\n",
    "\n",
    "def convert_duration(dur):\n",
    "    if pd.isnull(dur) or not isinstance(dur, str):\n",
    "        return 0\n",
    "    h, m = 0, 0\n",
    "    parts = dur.strip().split()\n",
    "    for part in parts:\n",
    "        if 'h' in part:\n",
    "            h = int(part.replace('h', ''))\n",
    "        elif 'm' in part:\n",
    "            m = int(part.replace('m', ''))\n",
    "    return h * 60 + m\n",
    "\n",
    "def process_duration(df):\n",
    "    df['Duration_mins'] = df['duration'].apply(convert_duration)\n",
    "    df.drop(['duration'], axis=1, inplace=True)\n",
    "    return df\n",
    "\n",
    "def preprocess(df):\n",
    "    df = process_time(df)\n",
    "    df = process_duration(df)\n",
    "    return df\n",
    "\n",
    "train_df = preprocess(train_df)\n",
    "test_df = preprocess(test_df)\n",
    "\n",
    "\n",
    "train_df.drop(columns=['Route'], errors='ignore', inplace=True)\n",
    "test_df.drop(columns=['Route'], errors='ignore', inplace=True)"
   ]
  },
  {
   "cell_type": "markdown",
   "id": "11fe755d",
   "metadata": {
    "papermill": {
     "duration": 0.00954,
     "end_time": "2025-07-02T17:43:00.946823",
     "exception": false,
     "start_time": "2025-07-02T17:43:00.937283",
     "status": "completed"
    },
    "tags": []
   },
   "source": [
    "\n",
    "## 🧩 Feature Engineering\n",
    "\n",
    "In machine learning, **feature engineering** plays a critical role in improving model performance. It involves transforming raw data into meaningful input features that make patterns easier for models to learn.\n",
    "\n",
    "In the context of **flight price prediction**, we perform feature engineering to extract more **granular and meaningful numerical features** from textual or categorical columns such as `departure`, `arrival`, and `duration`.\n",
    "\n",
    "---\n",
    "\n",
    "### 🕑 1. Convert Time of Day Labels to Numeric Values\n",
    "\n",
    "```python\n",
    "def map_time_of_day(time_of_day):\n",
    "    time_map = {\n",
    "        'Early_Morning': '00:00',\n",
    "        'Morning': '06:00',\n",
    "        'Afternoon': '12:00',\n",
    "        'Evening': '18:00',\n",
    "        'Night': '22:00'\n",
    "    }\n",
    "    return time_map.get(time_of_day, '00:00')\n",
    "```\n",
    "\n",
    "The columns `departure` and `arrival` contain **textual time slots** like `\"Morning\"` or `\"Night\"`. These aren't directly usable by ML models, so we convert them into **actual time strings** in `HH:MM` format for further parsing.\n",
    "\n",
    "---\n",
    "\n",
    "### 🔢 2. Extract Hour and Minute from Departure and Arrival\n",
    "\n",
    "```python\n",
    "def process_time(df):\n",
    "    df['departure'] = df['departure'].apply(map_time_of_day)\n",
    "    df['arrival'] = df['arrival'].apply(map_time_of_day)\n",
    "    df['Dep_hour'] = pd.to_datetime(df['departure'], format='%H:%M').dt.hour\n",
    "    df['Dep_min'] = pd.to_datetime(df['departure'], format='%H:%M').dt.minute\n",
    "    df['Arrival_hour'] = pd.to_datetime(df['arrival'], format='%H:%M').dt.hour\n",
    "    df['Arrival_min'] = pd.to_datetime(df['arrival'], format='%H:%M').dt.minute\n",
    "    df.drop(['departure', 'arrival'], axis=1, inplace=True)\n",
    "    return df\n",
    "```\n",
    "\n",
    "We apply `map_time_of_day()` and then extract **numeric hour and minute features** using `pd.to_datetime()`. This provides more detail than a general label like `\"Evening\"` and improves model interpretability of time features.\n",
    "\n",
    "---\n",
    "\n",
    "### ⏱️ 3. Convert Duration Strings to Total Minutes\n",
    "\n",
    "```python\n",
    "def convert_duration(dur):\n",
    "    if pd.isnull(dur) or not isinstance(dur, str):\n",
    "        return 0\n",
    "    h, m = 0, 0\n",
    "    parts = dur.strip().split()\n",
    "    for part in parts:\n",
    "        if 'h' in part:\n",
    "            h = int(part.replace('h', ''))\n",
    "        elif 'm' in part:\n",
    "            m = int(part.replace('m', ''))\n",
    "    return h * 60 + m\n",
    "```\n",
    "\n",
    "The `duration` column contains strings like `\"2h 30m\"` or `\"1h\"`, which need to be parsed and converted into **a single numeric feature: total minutes**.\n",
    "\n",
    "---\n",
    "\n",
    "### 🛠️ 4. Apply Transformations to Train & Test Sets\n",
    "\n",
    "```python\n",
    "def process_duration(df):\n",
    "    df['Duration_mins'] = df['duration'].apply(convert_duration)\n",
    "    df.drop(['duration'], axis=1, inplace=True)\n",
    "    return df\n",
    "\n",
    "def preprocess(df):\n",
    "    df = process_time(df)\n",
    "    df = process_duration(df)\n",
    "    return df\n",
    "\n",
    "train_df = preprocess(train_df)\n",
    "test_df = preprocess(test_df)\n",
    "```\n",
    "\n",
    "These helper functions ensure that both `train_df` and `test_df` are processed identically.\n",
    "\n",
    "---\n",
    "\n",
    "### 🧹 5. Drop Unused/Redundant Columns\n",
    "\n",
    "```python\n",
    "train_df.drop(columns=['Route'], errors='ignore', inplace=True)\n",
    "test_df.drop(columns=['Route'], errors='ignore', inplace=True)\n",
    "```\n",
    "\n",
    "- `Route` is often a redundant or highly sparse feature. Since we already extracted time-based information, we can safely drop it.\n",
    "\n",
    "---\n",
    "\n",
    "### ✅ Why This Matters\n",
    "\n",
    "| Transformation | Benefit |\n",
    "|----------------|---------|\n",
    "| Departure/Arrival Hour | Captures price behavior by time-of-day (e.g., early vs late flights) |\n",
    "| Duration (in minutes)  | Better reflects continuous relationship with price |\n",
    "| Dropping 'Route'       | Reduces noise and dimensionality |\n",
    "\n",
    "These engineered features help the model **learn more complex relationships** with price, ultimately improving accuracy and generalization.\n",
    "\n",
    "---\n"
   ]
  },
  {
   "cell_type": "markdown",
   "id": "d1250005",
   "metadata": {
    "papermill": {
     "duration": 0.009975,
     "end_time": "2025-07-02T17:43:00.967630",
     "exception": false,
     "start_time": "2025-07-02T17:43:00.957655",
     "status": "completed"
    },
    "tags": []
   },
   "source": [
    "\n",
    "# 🧼 7. Preprocessing Pipeline\n",
    "\n",
    " Define transformers for numerical and categorical columns and combine them into a ColumnTransformer.\n"
   ]
  },
  {
   "cell_type": "code",
   "execution_count": 9,
   "id": "e642fb84",
   "metadata": {
    "execution": {
     "iopub.execute_input": "2025-07-02T17:43:00.988649Z",
     "iopub.status.busy": "2025-07-02T17:43:00.988354Z",
     "iopub.status.idle": "2025-07-02T17:43:00.993777Z",
     "shell.execute_reply": "2025-07-02T17:43:00.992894Z"
    },
    "papermill": {
     "duration": 0.017958,
     "end_time": "2025-07-02T17:43:00.995542",
     "exception": false,
     "start_time": "2025-07-02T17:43:00.977584",
     "status": "completed"
    },
    "tags": []
   },
   "outputs": [],
   "source": [
    "\n",
    "categorical_cols = ['airline', 'flight', 'source', 'stops', 'destination', 'class']\n",
    "numerical_cols = ['Dep_hour', 'Dep_min', 'Arrival_hour', 'Arrival_min', 'Duration_mins', 'days_left']\n",
    "\n",
    "num_transformer = StandardScaler()\n",
    "cat_transformer = OneHotEncoder(handle_unknown='ignore')\n",
    "\n",
    "preprocessor = ColumnTransformer([\n",
    "    ('num', num_transformer, numerical_cols),\n",
    "    ('cat', cat_transformer, categorical_cols)\n",
    "])"
   ]
  },
  {
   "cell_type": "markdown",
   "id": "9453fc67",
   "metadata": {
    "papermill": {
     "duration": 0.009812,
     "end_time": "2025-07-02T17:43:01.016529",
     "exception": false,
     "start_time": "2025-07-02T17:43:01.006717",
     "status": "completed"
    },
    "tags": []
   },
   "source": [
    "\n",
    "## 🧪 Feature Scaling and Categorical Encoding\n",
    "\n",
    "Once feature engineering is complete, we move to **preprocessing the data** to prepare it for model training.\n",
    "\n",
    "Most machine learning algorithms — especially those based on distance (like KNN) or gradient optimization (like linear models) — are sensitive to the scale of features and unable to handle categorical variables in their raw form.\n",
    "\n",
    "---\n",
    "\n",
    "### 🎯 Objective:\n",
    "\n",
    "- **Scale numerical features** so they contribute equally to the model\n",
    "- **Encode categorical features** so they can be interpreted by ML algorithms\n",
    "\n",
    "---\n",
    "\n",
    "### 🔢 1. Define Column Types\n",
    "\n",
    "```python\n",
    "categorical_cols = ['airline', 'flight', 'source', 'stops', 'destination', 'class']\n",
    "numerical_cols = ['Dep_hour', 'Dep_min', 'Arrival_hour', 'Arrival_min', 'Duration_mins', 'days_left']\n",
    "```\n",
    "\n",
    "- **`categorical_cols`**: These are string/object-type variables that need to be converted into numeric form.\n",
    "- **`numerical_cols`**: These are continuous features that require standardization.\n",
    "\n",
    "---\n",
    "\n",
    "### 🔧 2. Set Up Transformers\n",
    "\n",
    "```python\n",
    "num_transformer = StandardScaler()\n",
    "cat_transformer = OneHotEncoder(handle_unknown='ignore')\n",
    "```\n",
    "\n",
    "- `StandardScaler`: Transforms numerical features to have mean = 0 and standard deviation = 1. This helps many models (e.g., Linear Regression, SVM) converge better.\n",
    "- `OneHotEncoder`: Transforms categorical values into binary columns (0/1) without imposing any ordinal relationship. `handle_unknown='ignore'` ensures test-time stability if unseen categories appear.\n",
    "\n",
    "---\n",
    "\n",
    "### 🔀 3. Combine with ColumnTransformer\n",
    "\n",
    "```python\n",
    "preprocessor = ColumnTransformer([\n",
    "    ('num', num_transformer, numerical_cols),\n",
    "    ('cat', cat_transformer, categorical_cols)\n",
    "])\n",
    "```\n",
    "\n",
    "This wraps the individual transformations into one single `preprocessor` object. It allows us to:\n",
    "\n",
    "- Cleanly integrate preprocessing into ML pipelines\n",
    "- Avoid data leakage during cross-validation or hyperparameter tuning\n",
    "- Keep code modular and reusable\n",
    "\n",
    "---\n",
    "\n",
    "### ✅ Why This Approach?\n",
    "\n",
    "| Step | Benefit |\n",
    "|------|---------|\n",
    "| **Column separation** | Ensures clarity on how each type of feature is treated |\n",
    "| **Scaling** | Prevents larger-magnitude features from dominating others |\n",
    "| **Encoding** | Enables use of powerful ML models that require numeric input |\n",
    "| **Modular Design** | Makes the code compatible with `Pipeline`, `GridSearchCV`, and model wrappers |\n",
    "\n",
    "---\n",
    "\n",
    "This `preprocessor` will now be used as the first step in a **scikit-learn pipeline** during model training and evaluation.\n",
    "\n"
   ]
  },
  {
   "cell_type": "markdown",
   "id": "2ed67781",
   "metadata": {
    "papermill": {
     "duration": 0.009655,
     "end_time": "2025-07-02T17:43:01.035855",
     "exception": false,
     "start_time": "2025-07-02T17:43:01.026200",
     "status": "completed"
    },
    "tags": []
   },
   "source": [
    "# 🧠 8. Train/Test Split\n",
    "Split the data into training and validation sets."
   ]
  },
  {
   "cell_type": "code",
   "execution_count": 10,
   "id": "fa658d36",
   "metadata": {
    "execution": {
     "iopub.execute_input": "2025-07-02T17:43:01.057480Z",
     "iopub.status.busy": "2025-07-02T17:43:01.057182Z",
     "iopub.status.idle": "2025-07-02T17:43:01.083619Z",
     "shell.execute_reply": "2025-07-02T17:43:01.082633Z"
    },
    "papermill": {
     "duration": 0.039032,
     "end_time": "2025-07-02T17:43:01.085432",
     "exception": false,
     "start_time": "2025-07-02T17:43:01.046400",
     "status": "completed"
    },
    "tags": []
   },
   "outputs": [],
   "source": [
    "X = train_df.drop('price', axis=1)\n",
    "y = train_df['price']\n",
    "\n",
    "X_train, X_val, y_train, y_val = train_test_split(X, y, test_size=0.2, random_state=42)"
   ]
  },
  {
   "cell_type": "markdown",
   "id": "b60e03ea",
   "metadata": {
    "papermill": {
     "duration": 0.00989,
     "end_time": "2025-07-02T17:43:01.105411",
     "exception": false,
     "start_time": "2025-07-02T17:43:01.095521",
     "status": "completed"
    },
    "tags": []
   },
   "source": [
    "\n",
    "## ✂️ Train-Test Split: Separating Features and Target\n",
    "\n",
    "Before training our machine learning models, it's essential to properly split our data into **features (X)** and **target (y)**. This step ensures that the model learns to predict only based on the inputs and doesn't accidentally \"peek\" at the answers.\n",
    "\n",
    "---\n",
    "\n",
    "### 🎯 Step 1: Separate Input Features and Target Variable\n",
    "\n",
    "```python\n",
    "X = train_df.drop('price', axis=1)\n",
    "y = train_df['price']\n",
    "```\n",
    "\n",
    "- `X` contains **all the features** used to predict flight ticket price.\n",
    "- `y` contains the **target variable**, i.e., the actual `price` of the ticket.\n",
    "\n",
    "This split is important because **most machine learning models expect a clear separation** between inputs and outputs.\n",
    "\n",
    "---\n",
    "\n",
    "### ✂️ Step 2: Split into Training and Validation Sets\n",
    "\n",
    "```python\n",
    "from sklearn.model_selection import train_test_split\n",
    "\n",
    "X_train, X_val, y_train, y_val = train_test_split(X, y, test_size=0.2, random_state=42)\n",
    "```\n",
    "\n",
    "- We divide the data into:\n",
    "  - `X_train`, `y_train`: Used to **train** the model.\n",
    "  - `X_val`, `y_val`: Used to **evaluate** model performance on unseen data.\n",
    "\n",
    "- `test_size=0.2` → Reserves **20% of data** for validation.\n",
    "- `random_state=42` → Ensures reproducibility (same split each time).\n",
    "\n",
    "---\n",
    "\n",
    "### ✅ Why This Matters\n",
    "\n",
    "| Action | Purpose |\n",
    "|--------|---------|\n",
    "| `drop('price')` | Ensures the target variable isn't accidentally used as input |\n",
    "| `train_test_split()` | Mimics real-world scenario where future (test) data is unseen |\n",
    "| 80/20 split | Common standard that balances training volume with evaluation confidence |\n",
    "\n",
    "Using this strategy gives us a **reliable and unbiased** way to measure model performance before applying it to the test set.\n",
    "\n",
    "---\n",
    "\n",
    "This split also prepares us for further steps like:\n",
    "- Building ML pipelines\n",
    "- Performing cross-validation\n",
    "- Hyperparameter tuning\n",
    "\n"
   ]
  },
  {
   "cell_type": "markdown",
   "id": "4456ca97",
   "metadata": {
    "papermill": {
     "duration": 0.009348,
     "end_time": "2025-07-02T17:43:01.124717",
     "exception": false,
     "start_time": "2025-07-02T17:43:01.115369",
     "status": "completed"
    },
    "tags": []
   },
   "source": [
    "# 🤖 9. Models\n",
    "Train a variety of regression models and evaluate their performance."
   ]
  },
  {
   "cell_type": "code",
   "execution_count": 11,
   "id": "743799df",
   "metadata": {
    "execution": {
     "iopub.execute_input": "2025-07-02T17:43:01.240997Z",
     "iopub.status.busy": "2025-07-02T17:43:01.240616Z",
     "iopub.status.idle": "2025-07-02T17:46:41.668668Z",
     "shell.execute_reply": "2025-07-02T17:46:41.667578Z"
    },
    "papermill": {
     "duration": 220.441206,
     "end_time": "2025-07-02T17:46:41.670633",
     "exception": false,
     "start_time": "2025-07-02T17:43:01.229427",
     "status": "completed"
    },
    "tags": []
   },
   "outputs": [
    {
     "name": "stdout",
     "output_type": "stream",
     "text": [
      "[LightGBM] [Info] Auto-choosing row-wise multi-threading, the overhead of testing was 0.004986 seconds.\n",
      "You can set `force_row_wise=true` to remove the overhead.\n",
      "And if memory is not enough, you can set `force_col_wise=true`.\n",
      "[LightGBM] [Info] Total Bins 732\n",
      "[LightGBM] [Info] Number of data points in the train set: 32000, number of used features: 338\n",
      "[LightGBM] [Info] Start training from score 20824.718125\n"
     ]
    }
   ],
   "source": [
    "\n",
    "models = {\n",
    "    'LinearRegression': LinearRegression(),\n",
    "    'Ridge': Ridge(solver='lsqr'),\n",
    "    'Lasso': Lasso(),\n",
    "    'DecisionTree': DecisionTreeRegressor(),\n",
    "    'RandomForest': RandomForestRegressor(),\n",
    "    'GradientBoosting': GradientBoostingRegressor(),\n",
    "    'XGBoost': XGBRegressor(),\n",
    "    'LightGBM': LGBMRegressor(),\n",
    "    'CatBoost': CatBoostRegressor(verbose=0)\n",
    "}\n",
    "\n",
    "results = {}\n",
    "\n",
    "for name, model in models.items():\n",
    "    pipe = Pipeline([\n",
    "        ('pre', preprocessor),\n",
    "        ('model', model)\n",
    "    ])\n",
    "    pipe.fit(X_train, y_train)\n",
    "    preds = pipe.predict(X_val)\n",
    "    results[name] = {\n",
    "        'MAE': mean_absolute_error(y_val, preds),\n",
    "        'RMSE': np.sqrt(mean_squared_error(y_val, preds)),\n",
    "        'R2': r2_score(y_val, preds)\n",
    "    }"
   ]
  },
  {
   "cell_type": "markdown",
   "id": "4f8d175b",
   "metadata": {
    "papermill": {
     "duration": 0.009557,
     "end_time": "2025-07-02T17:46:41.690480",
     "exception": false,
     "start_time": "2025-07-02T17:46:41.680923",
     "status": "completed"
    },
    "tags": []
   },
   "source": [
    "\n",
    "## 🤖 Training and Evaluating Multiple Models\n",
    "\n",
    "After preprocessing and splitting our data, the next step is to **train multiple machine learning models** and evaluate their performance.\n",
    "\n",
    "To ensure consistency and efficiency, we use **pipelines** that combine preprocessing and model fitting into a single step. This prevents data leakage and keeps the code modular.\n",
    "\n",
    "---\n",
    "\n",
    "### 🧠 Why Use Multiple Models?\n",
    "\n",
    "Different algorithms make different assumptions and may capture various patterns in the data. By comparing a wide range of models, we can identify the one that works best for our dataset.\n",
    "\n",
    "---\n",
    "\n",
    "### ⚙️ Model Dictionary\n",
    "\n",
    "```python\n",
    "models = {\n",
    "    'LinearRegression': LinearRegression(),\n",
    "    'Ridge': Ridge(solver='lsqr'),\n",
    "    'Lasso': Lasso(),\n",
    "    'DecisionTree': DecisionTreeRegressor(),\n",
    "    'RandomForest': RandomForestRegressor(),\n",
    "    'GradientBoosting': GradientBoostingRegressor(),\n",
    "    'XGBoost': XGBRegressor(),\n",
    "    'LightGBM': LGBMRegressor(),\n",
    "    'CatBoost': CatBoostRegressor(verbose=0)\n",
    "}\n",
    "```\n",
    "\n",
    "We include 9 models covering:\n",
    "- **Linear Models**: `LinearRegression`, `Ridge`, `Lasso`\n",
    "- **Tree-Based Models**: `DecisionTree`, `RandomForest`\n",
    "- **Boosting Algorithms**: `GradientBoosting`, `XGBoost`, `LightGBM`, `CatBoost`\n",
    "\n",
    "Each has its strengths:\n",
    "- Linear models are fast and interpretable.\n",
    "- Tree-based models handle non-linearity and mixed data types.\n",
    "- Boosting methods often yield top performance in competitions.\n",
    "\n",
    "---\n",
    "\n",
    "### 🔁 Training Loop with Pipelines\n",
    "\n",
    "```python\n",
    "results = {}\n",
    "\n",
    "for name, model in models.items():\n",
    "    pipe = Pipeline([\n",
    "        ('pre', preprocessor),\n",
    "        ('model', model)\n",
    "    ])\n",
    "    pipe.fit(X_train, y_train)\n",
    "    preds = pipe.predict(X_val)\n",
    "    results[name] = {\n",
    "        'MAE': mean_absolute_error(y_val, preds),\n",
    "        'RMSE': np.sqrt(mean_squared_error(y_val, preds)),\n",
    "        'R2': r2_score(y_val, preds)\n",
    "    }\n",
    "```\n",
    "\n",
    "- For each model:\n",
    "  - Create a pipeline that applies preprocessing (`preprocessor`) and trains the model.\n",
    "  - Fit the pipeline on training data.\n",
    "  - Predict on the validation set.\n",
    "  - Store **evaluation metrics**:\n",
    "    - `MAE` – Mean Absolute Error: average size of prediction error.\n",
    "    - `RMSE` – Root Mean Squared Error: penalizes large errors more.\n",
    "    - `R2` – R-squared Score: proportion of variance explained by the model.\n",
    "\n",
    "---\n",
    "\n",
    "### ✅ Why This Structure Works\n",
    "\n",
    "| Component       | Purpose |\n",
    "|----------------|---------|\n",
    "| `Pipeline`      | Ensures preprocessing is applied in all folds |\n",
    "| `preprocessor`  | Handles scaling and encoding |\n",
    "| Evaluation metrics | Give a rounded picture of model performance |\n",
    "\n",
    "---\n",
    "\n",
    "### 📌 Next Steps\n",
    "\n",
    "After this loop:\n",
    "- We'll display the `results` dictionary as a DataFrame.\n",
    "- Sort by best metrics (e.g., lowest RMSE or highest R²).\n",
    "- Select top models for hyperparameter tuning.\n",
    "\n",
    "This structured, metric-driven approach helps us make **data-informed decisions** instead of relying on assumptions.\n",
    "\n"
   ]
  },
  {
   "cell_type": "markdown",
   "id": "e3cc4942",
   "metadata": {
    "papermill": {
     "duration": 0.009503,
     "end_time": "2025-07-02T17:46:41.709732",
     "exception": false,
     "start_time": "2025-07-02T17:46:41.700229",
     "status": "completed"
    },
    "tags": []
   },
   "source": [
    "# 📈 10. Evaluation Results\n",
    "Compare model performance using evaluation metrics."
   ]
  },
  {
   "cell_type": "code",
   "execution_count": 12,
   "id": "2ce77f40",
   "metadata": {
    "execution": {
     "iopub.execute_input": "2025-07-02T17:46:41.730862Z",
     "iopub.status.busy": "2025-07-02T17:46:41.730495Z",
     "iopub.status.idle": "2025-07-02T17:46:41.740446Z",
     "shell.execute_reply": "2025-07-02T17:46:41.739312Z"
    },
    "papermill": {
     "duration": 0.022557,
     "end_time": "2025-07-02T17:46:41.742131",
     "exception": false,
     "start_time": "2025-07-02T17:46:41.719574",
     "status": "completed"
    },
    "tags": []
   },
   "outputs": [
    {
     "name": "stdout",
     "output_type": "stream",
     "text": [
      "                          MAE         RMSE        R2\n",
      "RandomForest      1823.988186  3841.933971  0.971392\n",
      "CatBoost          2296.801788  3973.528432  0.969398\n",
      "XGBoost           2336.704741  4094.227206  0.967511\n",
      "LightGBM          2392.120515  4149.081830  0.966635\n",
      "DecisionTree      2002.714400  4726.907574  0.956694\n",
      "GradientBoosting  3128.677500  5242.736378  0.946727\n",
      "Ridge             4428.319734  6389.260752  0.920879\n",
      "LinearRegression  4445.092302  6401.003673  0.920587\n",
      "Lasso             4418.938618  6412.080760  0.920312\n"
     ]
    }
   ],
   "source": [
    "results_df = pd.DataFrame(results).T.sort_values(by='RMSE')\n",
    "print(results_df)"
   ]
  },
  {
   "cell_type": "markdown",
   "id": "66a7d031",
   "metadata": {
    "papermill": {
     "duration": 0.010132,
     "end_time": "2025-07-02T17:46:41.762283",
     "exception": false,
     "start_time": "2025-07-02T17:46:41.752151",
     "status": "completed"
    },
    "tags": []
   },
   "source": [
    "\n",
    "## 📊 Comparing Model Performances\n",
    "\n",
    "After training and evaluating 9 different models, we now organize their performance metrics into a tabular format to make the results easier to interpret.\n",
    "\n",
    "---\n",
    "\n",
    "### 📈 View Model Results\n",
    "\n",
    "```python\n",
    "results_df = pd.DataFrame(results).T.sort_values(by='RMSE')\n",
    "print(results_df)\n",
    "```\n",
    "\n",
    "- We convert the `results` dictionary into a `pandas DataFrame` using `pd.DataFrame(results).T`.\n",
    "  - `.T` transposes the dictionary (models as rows instead of columns).\n",
    "- We then sort the DataFrame **by Root Mean Squared Error (RMSE)** — our primary metric for selecting the best-performing model.\n",
    "  - RMSE penalizes large errors more and gives us a sense of overall accuracy.\n",
    "\n",
    "---\n",
    "\n",
    "### ✅ Metrics Used\n",
    "\n",
    "| Metric | Description |\n",
    "|--------|-------------|\n",
    "| **MAE** (Mean Absolute Error) | Average magnitude of prediction errors |\n",
    "| **RMSE** (Root Mean Squared Error) | Similar to MAE but penalizes larger errors more harshly |\n",
    "| **R² Score** | How well the model explains the variation in target values |\n",
    "\n",
    "---\n",
    "\n",
    "### 📌 Why Sort by RMSE?\n",
    "\n",
    "- RMSE is sensitive to large errors and is widely used for regression tasks.\n",
    "- Models with the **lowest RMSE** are typically more stable and accurate.\n",
    "\n",
    "---\n",
    "\n",
    "### 🧠 What This Tells Us\n",
    "\n",
    "- We can quickly identify:\n",
    "  - The best-performing models\n",
    "  - Which models to tune further\n",
    "  - Which models underperform and may be excluded from tuning\n",
    "\n",
    "This step ensures that we move forward with **only the most promising models**, saving time and computational resources during hyperparameter tuning.\n",
    "\n"
   ]
  },
  {
   "cell_type": "markdown",
   "id": "e09fdb1b",
   "metadata": {
    "papermill": {
     "duration": 0.009571,
     "end_time": "2025-07-02T17:46:41.781929",
     "exception": false,
     "start_time": "2025-07-02T17:46:41.772358",
     "status": "completed"
    },
    "tags": []
   },
   "source": [
    "# 🛠️ 11. Hyperparameter Tuning (Top 3 Models)\n",
    "Tune the best three models using GridSearchCV."
   ]
  },
  {
   "cell_type": "code",
   "execution_count": 13,
   "id": "afeedbdb",
   "metadata": {
    "execution": {
     "iopub.execute_input": "2025-07-02T17:46:41.803481Z",
     "iopub.status.busy": "2025-07-02T17:46:41.803136Z",
     "iopub.status.idle": "2025-07-02T17:59:02.222548Z",
     "shell.execute_reply": "2025-07-02T17:59:02.221553Z"
    },
    "papermill": {
     "duration": 740.432361,
     "end_time": "2025-07-02T17:59:02.224338",
     "exception": false,
     "start_time": "2025-07-02T17:46:41.791977",
     "status": "completed"
    },
    "tags": []
   },
   "outputs": [
    {
     "name": "stdout",
     "output_type": "stream",
     "text": [
      "\n",
      "RandomForest Best Score: 3984.14\n",
      "\n",
      "XGBoost Best Score: 4350.80\n",
      "[LightGBM] [Info] Auto-choosing row-wise multi-threading, the overhead of testing was 0.001212 seconds.\n",
      "You can set `force_row_wise=true` to remove the overhead.\n",
      "And if memory is not enough, you can set `force_col_wise=true`.\n",
      "[LightGBM] [Info] Total Bins 588\n",
      "[LightGBM] [Info] Number of data points in the train set: 21333, number of used features: 266\n",
      "[LightGBM] [Info] Start training from score 20701.171518\n",
      "[LightGBM] [Info] Auto-choosing row-wise multi-threading, the overhead of testing was 0.001219 seconds.\n",
      "You can set `force_row_wise=true` to remove the overhead.\n",
      "And if memory is not enough, you can set `force_col_wise=true`.\n",
      "[LightGBM] [Info] Total Bins 584\n",
      "[LightGBM] [Info] Number of data points in the train set: 21333, number of used features: 264\n",
      "[LightGBM] [Info] Start training from score 20994.083861\n",
      "[LightGBM] [Info] Auto-choosing row-wise multi-threading, the overhead of testing was 0.001202 seconds.\n",
      "You can set `force_row_wise=true` to remove the overhead.\n",
      "And if memory is not enough, you can set `force_col_wise=true`.\n",
      "[LightGBM] [Info] Total Bins 576\n",
      "[LightGBM] [Info] Number of data points in the train set: 21334, number of used features: 260\n",
      "[LightGBM] [Info] Start training from score 20778.901144\n",
      "[LightGBM] [Info] Auto-choosing row-wise multi-threading, the overhead of testing was 0.001203 seconds.\n",
      "You can set `force_row_wise=true` to remove the overhead.\n",
      "And if memory is not enough, you can set `force_col_wise=true`.\n",
      "[LightGBM] [Info] Total Bins 588\n",
      "[LightGBM] [Info] Number of data points in the train set: 21333, number of used features: 266\n",
      "[LightGBM] [Info] Start training from score 20701.171518\n",
      "[LightGBM] [Info] Auto-choosing row-wise multi-threading, the overhead of testing was 0.001223 seconds.\n",
      "You can set `force_row_wise=true` to remove the overhead.\n",
      "And if memory is not enough, you can set `force_col_wise=true`.\n",
      "[LightGBM] [Info] Total Bins 584\n",
      "[LightGBM] [Info] Number of data points in the train set: 21333, number of used features: 264\n",
      "[LightGBM] [Info] Start training from score 20994.083861\n",
      "[LightGBM] [Info] Auto-choosing row-wise multi-threading, the overhead of testing was 0.001155 seconds.\n",
      "You can set `force_row_wise=true` to remove the overhead.\n",
      "And if memory is not enough, you can set `force_col_wise=true`.\n",
      "[LightGBM] [Info] Total Bins 576\n",
      "[LightGBM] [Info] Number of data points in the train set: 21334, number of used features: 260\n",
      "[LightGBM] [Info] Start training from score 20778.901144\n",
      "[LightGBM] [Info] Auto-choosing row-wise multi-threading, the overhead of testing was 0.001227 seconds.\n",
      "You can set `force_row_wise=true` to remove the overhead.\n",
      "And if memory is not enough, you can set `force_col_wise=true`.\n",
      "[LightGBM] [Info] Total Bins 588\n",
      "[LightGBM] [Info] Number of data points in the train set: 21333, number of used features: 266\n",
      "[LightGBM] [Info] Start training from score 20701.171518\n",
      "[LightGBM] [Info] Auto-choosing row-wise multi-threading, the overhead of testing was 0.001210 seconds.\n",
      "You can set `force_row_wise=true` to remove the overhead.\n",
      "And if memory is not enough, you can set `force_col_wise=true`.\n",
      "[LightGBM] [Info] Total Bins 584\n",
      "[LightGBM] [Info] Number of data points in the train set: 21333, number of used features: 264\n",
      "[LightGBM] [Info] Start training from score 20994.083861\n",
      "[LightGBM] [Info] Auto-choosing row-wise multi-threading, the overhead of testing was 0.001254 seconds.\n",
      "You can set `force_row_wise=true` to remove the overhead.\n",
      "And if memory is not enough, you can set `force_col_wise=true`.\n",
      "[LightGBM] [Info] Total Bins 576\n",
      "[LightGBM] [Info] Number of data points in the train set: 21334, number of used features: 260\n",
      "[LightGBM] [Info] Start training from score 20778.901144\n",
      "[LightGBM] [Info] Auto-choosing row-wise multi-threading, the overhead of testing was 0.001221 seconds.\n",
      "You can set `force_row_wise=true` to remove the overhead.\n",
      "And if memory is not enough, you can set `force_col_wise=true`.\n",
      "[LightGBM] [Info] Total Bins 588\n",
      "[LightGBM] [Info] Number of data points in the train set: 21333, number of used features: 266\n",
      "[LightGBM] [Info] Start training from score 20701.171518\n",
      "[LightGBM] [Info] Auto-choosing row-wise multi-threading, the overhead of testing was 0.001354 seconds.\n",
      "You can set `force_row_wise=true` to remove the overhead.\n",
      "And if memory is not enough, you can set `force_col_wise=true`.\n",
      "[LightGBM] [Info] Total Bins 584\n",
      "[LightGBM] [Info] Number of data points in the train set: 21333, number of used features: 264\n",
      "[LightGBM] [Info] Start training from score 20994.083861\n",
      "[LightGBM] [Info] Auto-choosing row-wise multi-threading, the overhead of testing was 0.001256 seconds.\n",
      "You can set `force_row_wise=true` to remove the overhead.\n",
      "And if memory is not enough, you can set `force_col_wise=true`.\n",
      "[LightGBM] [Info] Total Bins 576\n",
      "[LightGBM] [Info] Number of data points in the train set: 21334, number of used features: 260\n",
      "[LightGBM] [Info] Start training from score 20778.901144\n",
      "[LightGBM] [Info] Auto-choosing row-wise multi-threading, the overhead of testing was 0.001696 seconds.\n",
      "You can set `force_row_wise=true` to remove the overhead.\n",
      "And if memory is not enough, you can set `force_col_wise=true`.\n",
      "[LightGBM] [Info] Total Bins 732\n",
      "[LightGBM] [Info] Number of data points in the train set: 32000, number of used features: 338\n",
      "[LightGBM] [Info] Start training from score 20824.718125\n",
      "\n",
      "LightGBM Best Score: 4041.83\n"
     ]
    }
   ],
   "source": [
    "best_models = ['RandomForest', 'XGBoost', 'LightGBM']\n",
    "param_grids = {\n",
    "    'RandomForest': {'model__n_estimators': [100, 200], 'model__max_depth': [10, 20]},\n",
    "    'XGBoost': {'model__n_estimators': [100, 200], 'model__learning_rate': [0.05, 0.1]},\n",
    "    'LightGBM': {'model__n_estimators': [100, 200], 'model__learning_rate': [0.05, 0.1]}\n",
    "}\n",
    "\n",
    "best_pipes = {}\n",
    "for name in best_models:\n",
    "    pipe = Pipeline([\n",
    "        ('pre', preprocessor),\n",
    "        ('model', models[name])\n",
    "    ])\n",
    "    grid = GridSearchCV(pipe, param_grids[name], cv=3, scoring='neg_root_mean_squared_error')\n",
    "    grid.fit(X_train, y_train)\n",
    "    best_pipes[name] = grid.best_estimator_\n",
    "    print(f\"\\n{name} Best Score: {-grid.best_score_:.2f}\")\n"
   ]
  },
  {
   "cell_type": "markdown",
   "id": "f136cec7",
   "metadata": {
    "papermill": {
     "duration": 0.010493,
     "end_time": "2025-07-02T17:59:02.246034",
     "exception": false,
     "start_time": "2025-07-02T17:59:02.235541",
     "status": "completed"
    },
    "tags": []
   },
   "source": [
    "\n",
    "## 🛠️ Hyperparameter Tuning with GridSearchCV\n",
    "\n",
    "After identifying the top-performing models from our baseline results, we now move to **hyperparameter tuning** — a crucial step to optimize model performance.\n",
    "\n",
    "---\n",
    "\n",
    "### 🎯 Why Hyperparameter Tuning?\n",
    "\n",
    "While our baseline models use default settings, **fine-tuning specific hyperparameters** can significantly improve accuracy and generalization. We use **GridSearchCV** to systematically search over combinations of parameters.\n",
    "\n",
    "---\n",
    "\n",
    "### 🔍 Models Selected for Tuning\n",
    "\n",
    "```python\n",
    "best_models = ['RandomForest', 'XGBoost', 'LightGBM']\n",
    "```\n",
    "\n",
    "These models showed the **lowest RMSE** in the initial comparison, and are all **tree-based ensemble methods** known for their strong performance in tabular data tasks.\n",
    "\n",
    "---\n",
    "\n",
    "### 🧾 Define Parameter Grids\n",
    "\n",
    "```python\n",
    "param_grids = {\n",
    "    'RandomForest': {'model__n_estimators': [100, 200], 'model__max_depth': [10, 20]},\n",
    "    'XGBoost': {'model__n_estimators': [100, 200], 'model__learning_rate': [0.05, 0.1]},\n",
    "    'LightGBM': {'model__n_estimators': [100, 200], 'model__learning_rate': [0.05, 0.1]}\n",
    "}\n",
    "```\n",
    "\n",
    "Each model has its own parameter space:\n",
    "- `n_estimators`: number of trees\n",
    "- `max_depth`: controls tree size (RandomForest)\n",
    "- `learning_rate`: step size (XGBoost, LightGBM)\n",
    "\n",
    "---\n",
    "\n",
    "### 🔁 GridSearch Loop\n",
    "\n",
    "```python\n",
    "best_pipes = {}\n",
    "for name in best_models:\n",
    "    pipe = Pipeline([\n",
    "        ('pre', preprocessor),\n",
    "        ('model', models[name])\n",
    "    ])\n",
    "    grid = GridSearchCV(pipe, param_grids[name], cv=3, scoring='neg_root_mean_squared_error')\n",
    "    grid.fit(X_train, y_train)\n",
    "    best_pipes[name] = grid.best_estimator_\n",
    "    print(f\"\\n{name} Best Score: {-grid.best_score_:.2f}\")\n",
    "```\n",
    "\n",
    "- **Pipeline** ensures preprocessing is included during CV\n",
    "- **GridSearchCV**:\n",
    "  - Runs cross-validation (`cv=3`) for each param combination\n",
    "  - Evaluates using **negative RMSE** (lower is better)\n",
    "- Best estimators are stored in `best_pipes` for later use\n",
    "\n",
    "---\n",
    "\n",
    "### ✅ Why This Approach?\n",
    "\n",
    "| Step | Benefit |\n",
    "|------|---------|\n",
    "| GridSearchCV | Efficient hyperparameter tuning with cross-validation |\n",
    "| Tree Ensembles | Already high-performing, but can be improved with tuning |\n",
    "| Consistent Preprocessing | Ensures fair and leak-free training |\n",
    "\n",
    "---\n",
    "\n",
    "This sets us up for the final stage: training the best model on full data and generating predictions for the test set.\n",
    "\n"
   ]
  },
  {
   "cell_type": "markdown",
   "id": "f87f791c",
   "metadata": {
    "papermill": {
     "duration": 0.010348,
     "end_time": "2025-07-02T17:59:02.267757",
     "exception": false,
     "start_time": "2025-07-02T17:59:02.257409",
     "status": "completed"
    },
    "tags": []
   },
   "source": [
    "# 📤 12. Final Prediction & Submission\n",
    "\n",
    "Train the final model on the full training data and generate predictions for the test set.\n"
   ]
  },
  {
   "cell_type": "code",
   "execution_count": 14,
   "id": "a26cc719",
   "metadata": {
    "execution": {
     "iopub.execute_input": "2025-07-02T17:59:02.290478Z",
     "iopub.status.busy": "2025-07-02T17:59:02.290114Z",
     "iopub.status.idle": "2025-07-02T17:59:03.330493Z",
     "shell.execute_reply": "2025-07-02T17:59:03.328877Z"
    },
    "papermill": {
     "duration": 1.053714,
     "end_time": "2025-07-02T17:59:03.332098",
     "exception": false,
     "start_time": "2025-07-02T17:59:02.278384",
     "status": "completed"
    },
    "tags": []
   },
   "outputs": [
    {
     "name": "stdout",
     "output_type": "stream",
     "text": [
      "✅ Submission file saved as submission.csv\n"
     ]
    }
   ],
   "source": [
    "final_model = best_pipes['XGBoost']\n",
    "final_model.fit(X, y)\n",
    "final_preds = final_model.predict(test_df)\n",
    "\n",
    "submission = pd.DataFrame({\n",
    "    'id': sample_sub['id'],\n",
    "    'Price': final_preds\n",
    "})\n",
    "submission.to_csv(\"submission.csv\", index=False)\n",
    "print(\"✅ Submission file saved as submission.csv\")"
   ]
  },
  {
   "cell_type": "markdown",
   "id": "350a6bfb",
   "metadata": {
    "papermill": {
     "duration": 0.010853,
     "end_time": "2025-07-02T17:59:03.354163",
     "exception": false,
     "start_time": "2025-07-02T17:59:03.343310",
     "status": "completed"
    },
    "tags": []
   },
   "source": [
    "\n",
    "## 📤 Final Model Training & Submission\n",
    "\n",
    "After evaluating and tuning our models, we now select the **best model (XGBoost)** and train it on the **entire training dataset**. This allows the model to learn from all available data, maximizing performance before generating final predictions.\n",
    "\n",
    "---\n",
    "\n",
    "### 🧠 Why XGBoost?\n",
    "\n",
    "- XGBoost consistently achieved strong performance on validation sets.\n",
    "- It is fast, handles missing data natively, and performs well on structured/tabular data.\n",
    "- After tuning via GridSearchCV, its performance further improved.\n",
    "\n",
    "---\n",
    "\n",
    "### ✅ Training on Full Data & Predicting\n",
    "\n",
    "```python\n",
    "final_model = best_pipes['XGBoost']\n",
    "final_model.fit(X, y)\n",
    "final_preds = final_model.predict(test_df)\n",
    "```\n",
    "\n",
    "- `X`, `y` contain the full training data.\n",
    "- `test_df` is the test set provided by the competition (without target).\n",
    "- We use our optimized pipeline to make predictions.\n",
    "\n",
    "---\n",
    "\n",
    "### 📝 Create Submission File\n",
    "\n",
    "```python\n",
    "submission = pd.DataFrame({\n",
    "    'id': sample_sub['id'],\n",
    "    'Price': final_preds\n",
    "})\n",
    "submission.to_csv(\"submission.csv\", index=False)\n",
    "print(\"✅ Submission file saved as submission.csv\")\n",
    "```\n",
    "\n",
    "- The predicted prices are saved in the required format.\n",
    "- This CSV file can now be submitted to the Kaggle competition.\n",
    "\n",
    "---\n",
    "\n",
    "## 🏁 Final Summary & Reflection\n",
    "\n",
    "🎯 In this notebook, we followed an **end-to-end machine learning pipeline** to predict flight ticket prices. The workflow included:\n",
    "\n",
    "- ✅ Loading and understanding the dataset\n",
    "- ✅ Handling missing values, duplicates, and outliers\n",
    "- ✅ Performing meaningful **EDA** through visualizations\n",
    "- ✅ Feature engineering to transform raw data into valuable numeric input\n",
    "- ✅ Preprocessing with scaling and encoding\n",
    "- ✅ Training **9 diverse models** including linear and ensemble methods\n",
    "- ✅ Evaluating model performance using MAE, RMSE, and R²\n",
    "- ✅ Tuning the top 3 models using GridSearchCV\n",
    "- ✅ Selecting XGBoost for final predictions\n",
    "- ✅ Creating and exporting the submission file\n",
    "\n",
    "---\n",
    "\n",
    "### 🌟 Why This Notebook Stands Out\n",
    "\n",
    "- Clear structure with explanations for each step\n",
    "- Careful handling of data issues (nulls, skew, imbalance)\n",
    "- Strong model variety and hyperparameter optimization\n",
    "- Clean pipeline design ensures scalability and reproducibility\n",
    "- Visual insights support design choices and model intuition\n",
    "\n",
    "---\n",
    "\n",
    "### 🙌 Final Thoughts\n",
    "\n",
    "This assignment reflects a real-world machine learning workflow — from messy data to clean predictions. The process helped reinforce key concepts like:\n",
    "\n",
    "- Modular pipelines\n",
    "- Cross-validation\n",
    "- Feature importance\n",
    "- Choosing metrics wisely\n",
    "\n",
    "I truly enjoyed solving this challenge and hope this notebook demonstrates both technical strength and clarity of thought.\n",
    "\n",
    "📈 I look forward to learning from others' notebooks too!\n",
    "\n",
    "**Thank you for reviewing my submission!** 🙏\n",
    "\n"
   ]
  }
 ],
 "metadata": {
  "colab": {
   "name": "23f1001003-notebook-t22025-ka1",
   "provenance": []
  },
  "kaggle": {
   "accelerator": "none",
   "dataSources": [
    {
     "databundleVersionId": 12770423,
     "sourceId": 105665,
     "sourceType": "competition"
    }
   ],
   "dockerImageVersionId": 31040,
   "isGpuEnabled": false,
   "isInternetEnabled": true,
   "language": "python",
   "sourceType": "notebook"
  },
  "kernelspec": {
   "display_name": "Python 3",
   "language": "python",
   "name": "python3"
  },
  "language_info": {
   "codemirror_mode": {
    "name": "ipython",
    "version": 3
   },
   "file_extension": ".py",
   "mimetype": "text/x-python",
   "name": "python",
   "nbconvert_exporter": "python",
   "pygments_lexer": "ipython3",
   "version": "3.11.11"
  },
  "papermill": {
   "default_parameters": {},
   "duration": 981.626,
   "end_time": "2025-07-02T17:59:04.488625",
   "environment_variables": {},
   "exception": null,
   "input_path": "__notebook__.ipynb",
   "output_path": "__notebook__.ipynb",
   "parameters": {},
   "start_time": "2025-07-02T17:42:42.862625",
   "version": "2.6.0"
  }
 },
 "nbformat": 4,
 "nbformat_minor": 5
}
